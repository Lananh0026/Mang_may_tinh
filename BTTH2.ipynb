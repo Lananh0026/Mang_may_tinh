{
 "cells": [
  {
   "cell_type": "markdown",
   "id": "e900896f",
   "metadata": {},
   "source": [
    "###  BƯỚC 1: Xác thực bằng mật khẩu"
   ]
  },
  {
   "cell_type": "code",
   "execution_count": 1,
   "id": "67f0b966",
   "metadata": {},
   "outputs": [
    {
     "name": "stdout",
     "output_type": "stream",
     "text": [
      "Xác thực thành công!\n"
     ]
    }
   ],
   "source": [
    "import hashlib\n",
    "\n",
    "# Mật khẩu gốc được mã hóa SHA-256 (ở đây là \"mypassword\")\n",
    "stored_password = hashlib.sha256(b\"mypassword\").hexdigest()\n",
    "\n",
    "# Người dùng nhập mật khẩu\n",
    "password = input(\"Nhập mật khẩu: \")\n",
    "hashed_password = hashlib.sha256(password.encode()).hexdigest()\n",
    "\n",
    "# Kiểm tra mật khẩu\n",
    "if hashed_password == stored_password:\n",
    "    print(\"Xác thực thành công!\")\n",
    "else:\n",
    "    print(\"Xác thực thất bại!\")\n"
   ]
  },
  {
   "cell_type": "markdown",
   "id": "663b09ae",
   "metadata": {},
   "source": [
    "### BƯỚC 2: Xác thực bằng mã OTP"
   ]
  },
  {
   "cell_type": "code",
   "execution_count": 4,
   "id": "1fd5919b",
   "metadata": {},
   "outputs": [
    {
     "name": "stdout",
     "output_type": "stream",
     "text": [
      "Mã OTP của bạn là: 881354\n",
      "Xác thực thành công!\n"
     ]
    }
   ],
   "source": [
    "import pyotp\n",
    "import time\n",
    "\n",
    "# Tạo khóa bí mật và TOTP\n",
    "secret = pyotp.random_base32()\n",
    "totp = pyotp.TOTP(secret)\n",
    "\n",
    "# Hiển thị mã OTP hiện tại\n",
    "print(\"Mã OTP của bạn là:\", totp.now())\n",
    "\n",
    "# Nhập mã OTP từ người dùng\n",
    "otp_input = input(\"Nhập mã OTP: \")\n",
    "\n",
    "# Kiểm tra OTP\n",
    "if totp.verify(otp_input):\n",
    "    print(\"Xác thực thành công!\")\n",
    "else:\n",
    "    print(\"Xác thực thất bại!\")\n"
   ]
  },
  {
   "cell_type": "markdown",
   "id": "972acb4b",
   "metadata": {},
   "source": [
    "###  BƯỚC 3: Mô phỏng xác thực hai yếu tố (2FA)"
   ]
  },
  {
   "cell_type": "code",
   "execution_count": 6,
   "id": "f870f729",
   "metadata": {},
   "outputs": [
    {
     "name": "stdout",
     "output_type": "stream",
     "text": [
      "✅ Xác thực mật khẩu thành công! Chuyển sang bước xác thực OTP.\n",
      "Mã OTP của bạn là: 048462\n",
      "✅ Xác thực hai yếu tố thành công!\n"
     ]
    }
   ],
   "source": [
    "import hashlib\n",
    "import pyotp\n",
    "import time\n",
    "\n",
    "# Bước 1: Xác thực bằng mật khẩu\n",
    "stored_password = hashlib.sha256(b\"mypassword\").hexdigest()\n",
    "password = input(\"Nhập mật khẩu: \")\n",
    "hashed_password = hashlib.sha256(password.encode()).hexdigest()\n",
    "\n",
    "if hashed_password == stored_password:\n",
    "    print(\"✅ Xác thực mật khẩu thành công! Chuyển sang bước xác thực OTP.\")\n",
    "else:\n",
    "    print(\"❌ Xác thực mật khẩu thất bại!\")\n",
    "    exit()  # Thoát chương trình nếu sai mật khẩu\n",
    "\n",
    "# Bước 2: Xác thực bằng mã OTP\n",
    "secret = pyotp.random_base32()\n",
    "totp = pyotp.TOTP(secret)\n",
    "\n",
    "# Hiển thị mã OTP\n",
    "print(\"Mã OTP của bạn là:\", totp.now())\n",
    "\n",
    "otp_input = input(\"Nhập mã OTP: \")\n",
    "\n",
    "if totp.verify(otp_input):\n",
    "    print(\"✅ Xác thực hai yếu tố thành công!\")\n",
    "else:\n",
    "    print(\"❌ Xác thực bước 2, mã OTP thất bại!\")\n"
   ]
  },
  {
   "cell_type": "markdown",
   "id": "ae75a454",
   "metadata": {},
   "source": [
    "#### 1. Tại sao xác thực hai yếu tố (2FA) lại an toàn hơn so với xác thực chỉ bằng mật khẩu?\n",
    "Xác thực hai yếu tố (2FA) cung cấp một lớp bảo mật bổ sung bằng cách yêu cầu người dùng xác minh danh tính qua hai phương thức độc lập: một yếu tố mà người dùng biết (mật khẩu) và một yếu tố mà người dùng có (mã OTP được tạo theo thời gian thực).\n",
    "\n",
    "Trái ngược với xác thực chỉ bằng mật khẩu – vốn dễ bị lộ thông qua các hình thức tấn công như phishing, brute-force hoặc keylogger – thì 2FA đòi hỏi hacker phải chiếm đoạt cả thiết bị tạo mã OTP (hoặc quyền truy cập thời gian thực), điều này làm tăng đáng kể độ khó của cuộc tấn công.\n",
    "\n",
    "Vì vậy, có thể khẳng định rằng, việc sử dụng 2FA giúp giảm thiểu rủi ro lộ thông tin đăng nhập và tăng cường độ tin cậy của quá trình xác thực trong các hệ thống thông tin.\n",
    "\n",
    "#### 2. Có thể cải tiến thêm tính năng bảo mật nào cho chương trình này không?\n",
    "Để nâng cao hơn nữa khả năng bảo mật, có thể triển khai một số cải tiến như sau:\n",
    "\n",
    "Gửi mã OTP qua email hoặc SMS, thay vì hiển thị trực tiếp trên giao diện console, nhằm đảm bảo mã OTP chỉ đến được tay người dùng thực sự.\n",
    "\n",
    "Giới hạn số lần nhập sai OTP hoặc mật khẩu, ví dụ sau 3 lần thất bại thì khóa tài khoản tạm thời để ngăn chặn brute-force.\n",
    "\n",
    "Tích hợp xác thực bằng mã QR, cho phép người dùng quét mã bằng ứng dụng Google Authenticator, từ đó nâng cao tính tiện lợi và bảo mật.\n",
    "\n",
    "Ghi lại nhật ký xác thực (log), giúp quản trị viên theo dõi hành vi nghi vấn hoặc phát hiện tấn công.\n",
    "\n",
    "Thiết lập thời gian hết hạn ngắn hơn cho OTP (ví dụ 20 giây), đồng thời sử dụng secret key cố định để đồng bộ với các ứng dụng xác thực bên ngoài.\n",
    "\n",
    "Tóm lại, các cải tiến này không chỉ giúp ngăn chặn tấn công mà còn nâng cao trải nghiệm người dùng trong môi trường thực tế.\n",
    "\n",
    "#### 3. Dựa trên kết quả thực hành, Anh/Chị rút ra được bài học gì về tính bảo mật của mật khẩu và mã OTP?\n",
    "Qua bài thực hành, có thể rút ra một số bài học quan trọng về bảo mật thông tin như sau:\n",
    "\n",
    "Thứ nhất, mật khẩu cần được mã hóa (hash) trước khi lưu trữ, nhằm đảm bảo nếu hệ thống bị rò rỉ dữ liệu, thì thông tin đăng nhập vẫn không thể bị giải mã một cách dễ dàng.\n",
    "\n",
    "Thứ hai, mã OTP có tính chất tạm thời và duy nhất, do đó giúp giảm nguy cơ bị lợi dụng nếu mật khẩu bị đánh cắp. Việc sử dụng OTP cũng yêu cầu đồng bộ thời gian, từ đó gia tăng tính ngẫu nhiên và tính thời gian của xác thực.\n",
    "\n",
    "Cuối cùng, việc kết hợp cả hai phương pháp trong xác thực hai yếu tố giúp đảm bảo rằng, kể cả khi một yếu tố bị lộ, thì yếu tố còn lại vẫn đóng vai trò bảo vệ người dùng khỏi truy cập trái phép.\n",
    "\n",
    "Do đó, việc áp dụng các nguyên tắc xác thực đa tầng là cần thiết đối với bất kỳ hệ thống thông tin nào có tính chất nhạy cảm hoặc yêu cầu độ tin cậy cao."
   ]
  }
 ],
 "metadata": {
  "kernelspec": {
   "display_name": "Python 3",
   "language": "python",
   "name": "python3"
  },
  "language_info": {
   "codemirror_mode": {
    "name": "ipython",
    "version": 3
   },
   "file_extension": ".py",
   "mimetype": "text/x-python",
   "name": "python",
   "nbconvert_exporter": "python",
   "pygments_lexer": "ipython3",
   "version": "3.13.2"
  }
 },
 "nbformat": 4,
 "nbformat_minor": 5
}
