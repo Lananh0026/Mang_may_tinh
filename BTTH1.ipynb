{
 "cells": [
  {
   "cell_type": "code",
   "execution_count": 10,
   "id": "100b22e9",
   "metadata": {},
   "outputs": [
    {
     "name": "stdout",
     "output_type": "stream",
     "text": [
      "Văn bản mã hóa (AES): b'\\x99\\xf6%\\x19_\\x88\\xd8\\x19\\xfd\\xaad\\xbf\\xc1\\xa2\\x16\\x84\\xeb\\xda\\x1f\\x12LQN8\\n\\x84!\\x88\\xfa:S\\xf1\\x02\\x06\\xa6<c{Ua\\xec\\xffT;MS\\xb9\\xd0\\xab\\xcc\\x82\\x81\\x9b\\x02%\\x0f\\x8cd\\x8cS\\xe1\\xe1J\\xd9'\n",
      "Thời gian mã hóa AES: 0.0002429485321044922 giây\n",
      "Văn bản giải mã (AES): Hello, this is a test message for AES encryption!\n",
      "Thời gian giải mã AES: 0.001154184341430664 giây\n"
     ]
    }
   ],
   "source": [
    "from Crypto.Cipher import AES\n",
    "from Crypto.Random import get_random_bytes\n",
    "from Crypto.Util.Padding import pad, unpad\n",
    "import time\n",
    "\n",
    "# Tạo khóa AES 128-bit và khởi tạo AES\n",
    "key = get_random_bytes(16)  # 128-bit\n",
    "cipher = AES.new(key, AES.MODE_CBC)\n",
    "plaintext = b\"Hello, this is a test message for AES encryption!\"\n",
    "\n",
    "# Đo thời gian mã hóa AES\n",
    "start_time = time.time()\n",
    "ciphertext = cipher.encrypt(pad(plaintext, AES.block_size))\n",
    "end_time = time.time()\n",
    "aes_encryption_time = end_time - start_time\n",
    "\n",
    "print(\"Văn bản mã hóa (AES):\", ciphertext)\n",
    "print(\"Thời gian mã hóa AES:\", aes_encryption_time, \"giây\")\n",
    "\n",
    "# Giải mã và đo thời gian giải mã AES\n",
    "start_time = time.time()\n",
    "decipher = AES.new(key, AES.MODE_CBC, cipher.iv)\n",
    "decrypted_text = unpad(decipher.decrypt(ciphertext), AES.block_size)\n",
    "end_time = time.time()\n",
    "aes_decryption_time = end_time - start_time\n",
    "\n",
    "print(\"Văn bản giải mã (AES):\", decrypted_text.decode())\n",
    "print(\"Thời gian giải mã AES:\", aes_decryption_time, \"giây\")\n"
   ]
  },
  {
   "cell_type": "code",
   "execution_count": 11,
   "id": "c7557a74",
   "metadata": {},
   "outputs": [
    {
     "name": "stdout",
     "output_type": "stream",
     "text": [
      "Khóa AES sau khi mã hóa bằng RSA: b',\\xb2\\xf2\\x1b\\xdc\\x06\\xf0\\x81\\x89\\xe4\\xdbK6\\xce\\x87\\xfd\\xbb\\xca\\xc5\\x1d\\xf5\\xd9\\x16\\x02\\x06\\x97\\xbfu\\xf3\\x08\\xc7d\\xe8\\x9d0\\xdb\\x96M\\xb2EX\\xf9H\\x14g!\\xb2\\x85\\x82\\x13\\xb5\\xc0pne\\xfe\\xbdB\\x87\\x9d(Mk\\x18\\xea\\x01\\xd5\\xe660\\x93>j\\xa0\\xeb\\xe2p\\x87\\xca\\xf5o\\x11\\xec\\x11\\x11\\x15be&\\x9aE\\x89\\\\\\xbd\\x0e\\x00C\\x89;u\\x8b\\xe4M\\xed\\xda\\xe6?\\xb1\\xf6\\x1d\\xbc\\x17P\\x99@n\\xe6w\\xea\\xd0\\xa4\\xe9\\xe87\\xf2\\x16\\xe1\\xf3o\\x97\\xbb\\xfa~\\xb8\\x06iO9\\x15&u\\x13\\x08\\x8c\\xd8\\x17f\\x85^\\xed\\xfb~\\xbe\\xc7\\x14\\x87\\xf0\\xfc\\x90(\\x1c{\\x13\\x0f]\\xfbhS\\xef\\x15\\x07\\xdd\\xcf{^\\x90\\xc5\\x87\\xca\\x9e\\xd3\\x8a\\xcec\\x92\\xd2b\\xfa\\xd5\\xaa\\x97\\t\\x0e\\x97\\x87\\xfc\\xc8\\x16F#\\xe3n:ybS\\xbdsI\\x14\\x8b\\n:V\\xdevBG\\xda\\x9a\\xbd\\x89\\xe4\\r\\xd4\\x0c,d\\x8eb\\xf7\\x9e\\x12\\x925\\x98)J%\\xd7\\xb1\\x95\\x00\\xa6\\xaey\\xf0\\xe5(!\\x16 vj\\x9d\\x8a'\n",
      "Thời gian mã hóa RSA: 0.0016908645629882812 giây\n",
      "Khóa AES sau khi giải mã: b'(G\\xb0\\xf7#\\x07<\\xb7t\\xda\\xb3\\xcd\\xf2\\xd7E}'\n",
      "Thời gian giải mã RSA: 0.008511781692504883 giây\n"
     ]
    }
   ],
   "source": [
    "from Crypto.PublicKey import RSA\n",
    "from Crypto.Cipher import PKCS1_OAEP\n",
    "import time\n",
    "\n",
    "# Tạo cặp khóa RSA\n",
    "key = RSA.generate(2048)\n",
    "private_key = key.export_key()\n",
    "public_key = key.publickey().export_key()\n",
    "\n",
    "# Mã hóa khóa AES bằng khóa công khai RSA\n",
    "aes_key = get_random_bytes(16)\n",
    "cipher_rsa = PKCS1_OAEP.new(RSA.import_key(public_key))\n",
    "\n",
    "start_time = time.time()\n",
    "encrypted_aes_key = cipher_rsa.encrypt(aes_key)\n",
    "end_time = time.time()\n",
    "rsa_encryption_time = end_time - start_time\n",
    "\n",
    "print(\"Khóa AES sau khi mã hóa bằng RSA:\", encrypted_aes_key)\n",
    "print(\"Thời gian mã hóa RSA:\", rsa_encryption_time, \"giây\")\n",
    "\n",
    "# Giải mã khóa AES bằng khóa bí mật RSA\n",
    "decipher_rsa = PKCS1_OAEP.new(RSA.import_key(private_key))\n",
    "\n",
    "start_time = time.time()\n",
    "decrypted_aes_key = decipher_rsa.decrypt(encrypted_aes_key)\n",
    "end_time = time.time()\n",
    "rsa_decryption_time = end_time - start_time\n",
    "\n",
    "print(\"Khóa AES sau khi giải mã:\", decrypted_aes_key)\n",
    "print(\"Thời gian giải mã RSA:\", rsa_decryption_time, \"giây\")\n"
   ]
  },
  {
   "cell_type": "code",
   "execution_count": 12,
   "id": "09dd8ecb",
   "metadata": {},
   "outputs": [
    {
     "name": "stdout",
     "output_type": "stream",
     "text": [
      "Khóa AES sau khi mã hóa bằng RSA: b'\\tuN\\x1fM\\xd7k\\xd0\\x9c\\xea\\xc35\\xe3\\x1c\\r\\xa9(L7\\xf7\\x12\\\\\\x99\\xbcw\\xb4<{R0\\xfcD:\\xb7\\xdf~\\xcf\\xb0\\xc1b\\xc2\\xd0\\xe3\\x16\\xc3\\x83\\xef\\xb0\\x84\\xd1S/HGc;\\xee\\r\\xc2\\xdc\\xe8\\xcb \\xbc\\xd9R$W\\xb4\\xa8\\xce-\\x9b\\xaeq\\x88\\x92\\x8cF0\\x98\\xf7\\xca\\xd4\\x81\\xa8\\xdc\\xb8\\xc4\\xde\\xcf\\xa22\\xd7\\xff\\xad\\x88\\xa6\\xef\\xc2\\x80#\\xbc\\xff\\x034\\xb5\\xeea\\x8be\\x88\\xa1\\x18\\xc3j\\xc5\\xa6u\\xf3\\x1b\\x92M^rk\\xc0\\xf1\\\\\\t\\x16%\\xf5\\xeb\\xcf\\xa2\\xa7YYT\\xa5k\\xf8\\x16\\x8d\\xd2\\x82V\\xd2\\x1cIw\\x17\\xad/\\xad\\xb9\\x8fmi\\xcd\\xc3\\xdd\\xf0`\\xcd\\xa4hR\\x06\\xf9D\\x910\\xe5g\\x07\\xbc\\x12\\xea\\\\\\xb0\\xd2\\x9eI=\\xb8\\x18j\\xfa\\xbe\\xdd\\xa3\\x0f\\xd8\\xd4\\xb0\\x04\\xb9\\x9ep\\x99\\x92\\xbcl\\xb5)\\xfd\\xfd\\xbaH\\xeb\\x96\"i\\x9ai\\x04\\xf2g\\xe8\\xb3\\xfc\\xaa\\xb3\\x9c\\xde[\\x9d\\x19R\\x91\\x05\\xc5\\xac\\xa9\\xca\\x9e\\xc7F\\xe3\\xb4\\xe3e\\xd78\\x81\\x0f\\xb4o+\\xa5k?y\\x10'\n",
      "Thời gian mã hóa RSA: 0.0014543533325195312 giây\n",
      "Khóa AES sau khi giải mã: b'\\xa9C\\x0cB\\xc4\\xcf\\x94bm\\xa6\\xe1\\x85\\xcb\\xc9\\xb3\\xc4'\n",
      "Thời gian giải mã RSA: 0.008728504180908203 giây\n"
     ]
    }
   ],
   "source": [
    "from Crypto.Random import get_random_bytes\n",
    "from Crypto.PublicKey import RSA\n",
    "from Crypto.Cipher import PKCS1_OAEP\n",
    "import time\n",
    "\n",
    "# Tạo cặp khóa RSA\n",
    "key = RSA.generate(2048)\n",
    "private_key = key.export_key()\n",
    "public_key = key.publickey().export_key()\n",
    "\n",
    "# Mã hóa khóa AES bằng khóa công khai RSA và đo thời gian\n",
    "aes_key = get_random_bytes(16)\n",
    "cipher_rsa = PKCS1_OAEP.new(RSA.import_key(public_key))\n",
    "\n",
    "start_time = time.time()\n",
    "encrypted_aes_key = cipher_rsa.encrypt(aes_key)\n",
    "end_time = time.time()\n",
    "rsa_encryption_time = end_time - start_time\n",
    "\n",
    "print(\"Khóa AES sau khi mã hóa bằng RSA:\", encrypted_aes_key)\n",
    "print(\"Thời gian mã hóa RSA:\", rsa_encryption_time, \"giây\")\n",
    "\n",
    "# Giải mã khóa AES bằng khóa bí mật RSA và đo thời gian\n",
    "decipher_rsa = PKCS1_OAEP.new(RSA.import_key(private_key))\n",
    "\n",
    "start_time = time.time()\n",
    "decrypted_aes_key = decipher_rsa.decrypt(encrypted_aes_key)\n",
    "end_time = time.time()\n",
    "rsa_decryption_time = end_time - start_time\n",
    "\n",
    "print(\"Khóa AES sau khi giải mã:\", decrypted_aes_key)\n",
    "print(\"Thời gian giải mã RSA:\", rsa_decryption_time, \"giây\")\n"
   ]
  }
 ],
 "metadata": {
  "kernelspec": {
   "display_name": "Python 3",
   "language": "python",
   "name": "python3"
  },
  "language_info": {
   "codemirror_mode": {
    "name": "ipython",
    "version": 3
   },
   "file_extension": ".py",
   "mimetype": "text/x-python",
   "name": "python",
   "nbconvert_exporter": "python",
   "pygments_lexer": "ipython3",
   "version": "3.13.2"
  }
 },
 "nbformat": 4,
 "nbformat_minor": 5
}
